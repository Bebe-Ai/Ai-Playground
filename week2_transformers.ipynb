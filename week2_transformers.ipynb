{
  "nbformat": 4,
  "nbformat_minor": 0,
  "metadata": {
    "colab": {
      "provenance": [],
      "authorship_tag": "ABX9TyO4aqAPYI2RcBIYpPluRWmR",
      "include_colab_link": true
    },
    "kernelspec": {
      "name": "python3",
      "display_name": "Python 3"
    },
    "language_info": {
      "name": "python"
    }
  },
  "cells": [
    {
      "cell_type": "markdown",
      "metadata": {
        "id": "view-in-github",
        "colab_type": "text"
      },
      "source": [
        "<a href=\"https://colab.research.google.com/github/Bebe-Ai/Ai-Playground/blob/main/week2_transformers.ipynb\" target=\"_parent\"><img src=\"https://colab.research.google.com/assets/colab-badge.svg\" alt=\"Open In Colab\"/></a>"
      ]
    },
    {
      "cell_type": "code",
      "execution_count": 3,
      "metadata": {
        "colab": {
          "base_uri": "https://localhost:8080/"
        },
        "id": "Bkg4idhEeYiX",
        "outputId": "76fdd5c2-561c-4d4f-e0fc-e8aecec6332c"
      },
      "outputs": [
        {
          "output_type": "stream",
          "name": "stderr",
          "text": [
            "Device set to use cpu\n",
            "Setting `pad_token_id` to `eos_token_id`:50256 for open-end generation.\n"
          ]
        },
        {
          "output_type": "stream",
          "name": "stdout",
          "text": [
            "A good startup idea is that it will be open source, open source and open source. It doesn't mean that it's a good idea but it could be implemented in other areas.\n",
            "\n",
            "\n",
            "\n",
            "One of the primary goals of the project is to develop a framework that provides a way to make development work in the open\n"
          ]
        }
      ],
      "source": [
        "!pip install transformers torch --quiet\n",
        "\n",
        "from transformers import pipeline\n",
        "\n",
        "# Create a text-generation pipeline with a small model\n",
        "generator = pipeline(\"text-generation\", model=\"distilgpt2\")\n",
        "\n",
        "# Try it out\n",
        "prompt = \"A good startup idea is\"\n",
        "output = generator(prompt, max_new_tokens=60, num_return_sequences=1)\n",
        "\n",
        "print(output[0][\"generated_text\"])\n"
      ]
    }
  ]
}