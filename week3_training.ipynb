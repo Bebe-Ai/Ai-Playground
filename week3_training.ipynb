{
  "nbformat": 4,
  "nbformat_minor": 0,
  "metadata": {
    "colab": {
      "provenance": [],
      "authorship_tag": "ABX9TyMEzpEriml/Rc7Xx6u78nhm",
      "include_colab_link": true
    },
    "kernelspec": {
      "name": "python3",
      "display_name": "Python 3"
    },
    "language_info": {
      "name": "python"
    }
  },
  "cells": [
    {
      "cell_type": "markdown",
      "metadata": {
        "id": "view-in-github",
        "colab_type": "text"
      },
      "source": [
        "<a href=\"https://colab.research.google.com/github/Bebe-Ai/Ai-Playground/blob/main/week3_training.ipynb\" target=\"_parent\"><img src=\"https://colab.research.google.com/assets/colab-badge.svg\" alt=\"Open In Colab\"/></a>"
      ]
    },
    {
      "cell_type": "code",
      "execution_count": null,
      "metadata": {
        "id": "MuD0ontYX_nE"
      },
      "outputs": [],
      "source": [
        "!pip install --upgrade transformers datasets\n",
        "\n",
        "from transformers import AutoTokenizer, AutoModelForSeq2SeqLM, TrainingArguments, Trainer\n",
        "from datasets import Dataset\n",
        "import pandas as pd\n",
        "import random\n"
      ]
    },
    {
      "cell_type": "code",
      "source": [
        "# Example auto-generated Q&A\n",
        "questions = [\n",
        "    \"What is the delivery time?\",\n",
        "    \"Do you ship internationally?\",\n",
        "    \"How can I return a product?\",\n",
        "    \"What payment methods do you accept?\",\n",
        "    \"Is there a warranty?\"\n",
        "]\n",
        "\n",
        "answers = [\n",
        "    \"Delivery usually takes 3-5 business days.\",\n",
        "    \"Yes, we ship worldwide.\",\n",
        "    \"You can return any product within 30 days.\",\n",
        "    \"We accept credit cards, PayPal, and Apple Pay.\",\n",
        "    \"All products have a 1-year warranty.\"\n",
        "]\n",
        "\n",
        "# Generate 500 fake examples\n",
        "data = []\n",
        "for i in range(500):\n",
        "    q = random.choice(questions)\n",
        "    a = answers[questions.index(q)]\n",
        "    data.append({\"question\": q, \"answer\": a})\n",
        "\n",
        "df = pd.DataFrame(data)\n",
        "\n",
        "# Convert to Hugging Face Dataset\n",
        "dataset = Dataset.from_pandas(df)\n",
        "\n",
        "# Split train/test\n",
        "dataset = dataset.train_test_split(test_size=0.2)\n",
        "train_dataset = dataset[\"train\"]\n",
        "test_dataset = dataset[\"test\"]\n",
        "\n",
        "print(train_dataset[0])\n"
      ],
      "metadata": {
        "id": "9cHGpNmUYUaw"
      },
      "execution_count": null,
      "outputs": []
    },
    {
      "cell_type": "code",
      "source": [
        "tokenizer = AutoTokenizer.from_pretrained(\"t5-small\")  # T5 is great for Q&A\n",
        "\n",
        "def tokenize(batch):\n",
        "    # Prefix “question: ” is common for T5-style tasks\n",
        "    inputs = [\"question: \" + q for q in batch[\"question\"]]\n",
        "    targets = batch[\"answer\"]\n",
        "    model_inputs = tokenizer(inputs, padding=True, truncation=True, max_length=64)\n",
        "    labels = tokenizer(targets, padding=True, truncation=True, max_length=64)\n",
        "    model_inputs[\"labels\"] = labels[\"input_ids\"]\n",
        "    return model_inputs\n",
        "\n",
        "train_dataset = train_dataset.map(tokenize, batched=True)\n",
        "test_dataset = test_dataset.map(tokenize, batched=True)\n"
      ],
      "metadata": {
        "id": "pzg37vYSYwao"
      },
      "execution_count": null,
      "outputs": []
    },
    {
      "cell_type": "code",
      "source": [
        "model = AutoModelForSeq2SeqLM.from_pretrained(\"t5-small\")\n"
      ],
      "metadata": {
        "id": "FCKdXRs2YzSy"
      },
      "execution_count": null,
      "outputs": []
    },
    {
      "cell_type": "code",
      "source": [
        "training_args = TrainingArguments(\n",
        "    output_dir=\"./results\",\n",
        "    eval_strategy=\"epoch\",\n",
        "    save_strategy=\"epoch\",\n",
        "    logging_dir=\"./logs\",\n",
        "    per_device_train_batch_size=4,\n",
        "    per_device_eval_batch_size=4,\n",
        "    num_train_epochs=3,\n",
        "    weight_decay=0.01,\n",
        "    report_to=[]  # This disables W&B (and any other reporting)\n",
        ")\n"
      ],
      "metadata": {
        "id": "27V7WwnFeofe"
      },
      "execution_count": null,
      "outputs": []
    },
    {
      "cell_type": "code",
      "source": [
        "trainer = Trainer(\n",
        "    model=model,\n",
        "    args=training_args,\n",
        "    train_dataset=train_dataset,\n",
        "    eval_dataset=test_dataset\n",
        ")\n"
      ],
      "metadata": {
        "id": "avLj-WbkZCmQ"
      },
      "execution_count": null,
      "outputs": []
    },
    {
      "cell_type": "code",
      "source": [
        "trainer.train()\n"
      ],
      "metadata": {
        "id": "eikpY2ZjeznV"
      },
      "execution_count": null,
      "outputs": []
    },
    {
      "cell_type": "code",
      "source": [
        "def answer_question(question):\n",
        "    input_text = \"question: \" + question\n",
        "    inputs = tokenizer(input_text, return_tensors=\"pt\")\n",
        "    outputs = model.generate(**inputs, max_length=64)\n",
        "    return tokenizer.decode(outputs[0], skip_special_tokens=True)\n",
        "\n",
        "# Test examples\n",
        "print(answer_question(\"Do you ship internationally?\"))\n",
        "print(answer_question(\"How can I return a product?\"))\n"
      ],
      "metadata": {
        "id": "nBmX9LgQgSaB"
      },
      "execution_count": null,
      "outputs": []
    },
    {
      "cell_type": "code",
      "source": [
        "model.save_pretrained(\"./customer_support_model\")\n",
        "tokenizer.save_pretrained(\"./customer_support_model\")\n"
      ],
      "metadata": {
        "id": "AgDX3CV0gY6u"
      },
      "execution_count": null,
      "outputs": []
    },
    {
      "cell_type": "code",
      "source": [],
      "metadata": {
        "id": "UdE3jYB4hV8I"
      },
      "execution_count": null,
      "outputs": []
    },
    {
      "cell_type": "code",
      "source": [
        "def answer_question(question):\n",
        "    input_text = \"question: \" + question\n",
        "    inputs = tokenizer(input_text, return_tensors=\"pt\")\n",
        "    outputs = model.generate(**inputs, max_length=64)\n",
        "    return tokenizer.decode(outputs[0], skip_special_tokens=True)\n",
        "\n",
        "# Test examples\n",
        "print(answer_question(\"How long does the return time take?\"))\n",
        "print(answer_question(\"What type o products do you have?\"))\n"
      ],
      "metadata": {
        "id": "E-TdPFdIhWYb"
      },
      "execution_count": null,
      "outputs": []
    },
    {
      "cell_type": "code",
      "source": [
        "from transformers import AutoTokenizer, AutoModelForSeq2SeqLM\n",
        "\n",
        "# Load your trained model\n",
        "tokenizer = AutoTokenizer.from_pretrained(\"./customer_support_model\")\n",
        "model = AutoModelForSeq2SeqLM.from_pretrained(\"./customer_support_model\")\n",
        "\n",
        "# Function to ask the bot a question\n",
        "def ask_bot(question):\n",
        "    input_text = \"question: \" + question\n",
        "    inputs = tokenizer(input_text, return_tensors=\"pt\")\n",
        "    outputs = model.generate(**inputs, max_length=80)\n",
        "    answer = tokenizer.decode(outputs[0], skip_special_tokens=True)\n",
        "    return answer\n",
        "\n",
        "# Interactive loop\n",
        "print(\"💬 Customer Support Bot is ready! Type 'quit' to stop.\\n\")\n",
        "\n",
        "while True:\n",
        "    question = input(\"You: \")\n",
        "    if question.lower() == \"quit\":\n",
        "        print(\"Bot: Goodbye 👋\")\n",
        "        break\n",
        "    answer = ask_bot(question)\n",
        "    print(\"Bot:\", answer)\n"
      ],
      "metadata": {
        "id": "QdRq-_dSiSAl"
      },
      "execution_count": null,
      "outputs": []
    }
  ]
}