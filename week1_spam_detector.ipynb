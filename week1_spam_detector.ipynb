{
  "nbformat": 4,
  "nbformat_minor": 0,
  "metadata": {
    "colab": {
      "provenance": [],
      "authorship_tag": "ABX9TyMOoBBEKUwcTLJHOzxA6bN/",
      "include_colab_link": true
    },
    "kernelspec": {
      "name": "python3",
      "display_name": "Python 3"
    },
    "language_info": {
      "name": "python"
    }
  },
  "cells": [
    {
      "cell_type": "markdown",
      "metadata": {
        "id": "view-in-github",
        "colab_type": "text"
      },
      "source": [
        "<a href=\"https://colab.research.google.com/github/Bebe-Ai/Ai-Playground/blob/main/week1_spam_detector.ipynb\" target=\"_parent\"><img src=\"https://colab.research.google.com/assets/colab-badge.svg\" alt=\"Open In Colab\"/></a>"
      ]
    },
    {
      "cell_type": "code",
      "execution_count": 5,
      "metadata": {
        "colab": {
          "base_uri": "https://localhost:8080/"
        },
        "id": "ClelNEKkcOsY",
        "outputId": "b7726b30-68d0-4cb8-8570-5c654eb27d03"
      },
      "outputs": [
        {
          "output_type": "stream",
          "name": "stdout",
          "text": [
            "Buy 1 get 1 free -> spam\n",
            "Hey bro lets meet up? -> ham\n"
          ]
        }
      ],
      "source": [
        "from sklearn.feature_extraction.text import TfidfVectorizer\n",
        "from sklearn.linear_model import LogisticRegression\n",
        "from sklearn.pipeline import make_pipeline\n",
        "\n",
        "# 1. Training data (examples)\n",
        "texts = [\n",
        "    \"Win money now! Click this link\",  # spam\n",
        "    \"Hey, are we still on for lunch tomorrow?\",  # ham\n",
        "    \"Limited time offer, claim your prize\",  # spam\n",
        "    \"Don't forget the meeting at 10am\",  # ham\n",
        "]\n",
        "labels = [1, 0, 1, 0]  # 1 = spam, 0 = ham\n",
        "\n",
        "# 2. Build a pipeline (turn words into numbers, train robot)\n",
        "model = make_pipeline(TfidfVectorizer(), LogisticRegression())\n",
        "\n",
        "# 3. Train the robot\n",
        "model.fit(texts, labels)\n",
        "\n",
        "# 4. Test it on new messages\n",
        "examples = [\n",
        "    \"Buy 1 get 1 free\",\n",
        "    \"Hey bro lets meet up?\",\n",
        "]\n",
        "preds = model.predict(examples)\n",
        "\n",
        "for text, label in zip(examples, preds):\n",
        "    print(f\"{text} -> {'spam' if label == 1 else 'ham'}\")\n"
      ]
    }
  ]
}